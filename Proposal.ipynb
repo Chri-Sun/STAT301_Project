{
 "cells": [
  {
   "cell_type": "markdown",
   "id": "97327267-8b44-4010-96ad-35777ea25af5",
   "metadata": {},
   "source": [
    "**STAT 301: Project Proposal** <br>\n",
    "**Group 5** : Hannah Ban, Christine Sun, Eric Tang, Luqi Tang"
   ]
  },
  {
   "cell_type": "markdown",
   "id": "7421360c-b041-497d-a661-31081d79067c",
   "metadata": {},
   "source": [
    "**Introduction**"
   ]
  },
  {
   "cell_type": "markdown",
   "id": "e15eb12b-10fc-478e-8b9a-7ca27cef7e0a",
   "metadata": {},
   "source": [
    "Understanding what factors are associated with adult income and the general reasons for large income differences has long been a concern. A book written by Messenger et al. (2007) details multiple concepts about working time, including trends in working hours across the globe. More specifically, chapter 4 examines the working hours of people of different ages and genders across the globe and concludes that both age and gender can be considered defining factors in shaping working hours; describing a ‘gender gap’ present across multiple countries and a general reduction in working hours of people above the age of 65. Besides age and gender, an analysis by Dunga (2017) pointed out that marital status is also an important factor that affects household income. <br>\n",
    "Additionally, Clawson and Gerstel (2014) took a sociology approach when examining how gender, class and family can affect a worker’s control over their working hours and how they may respond when faced with an unpredictable event affecting those hours. They noted there was less of a ‘gender gap’ and more of a difference within classes; those who are considered ‘professional-class’ have more control over their hours as opposed to those who are considered ‘working-class’, who experience more pressure and less control. <br>\n",
    "With that knowledge in mind, we wanted to know if it would be possible to predict working hours based on multiple factors. We will use the data collected by Ronny Kohavi and Barry Becker, extracted from the 1994 Census bureau database, to predict working hours. With that said, the response variable will be the number of hours worked per week, hours.per.week, and based on the preliminary results, we decided to reduce the number of variables and use ______________ as explanatory variables to fit and test multiple models. In general, we will first focus on inference to determine the best MLR model for the data, then prediction as we use that model to make predictions on the working hours per week.  <br>\n",
    "> The following is the link of data set: https://www.kaggle.com/datasets/uciml/adult-census-income"
   ]
  },
  {
   "cell_type": "markdown",
   "id": "880fd9ff-b267-4f63-8a34-b296b1e6c784",
   "metadata": {},
   "source": [
    "**Preliminary Results**"
   ]
  },
  {
   "cell_type": "markdown",
   "id": "123989e0-c914-4f53-b88f-234f7aaea1b6",
   "metadata": {},
   "source": [
    "**Methods: Plans**"
   ]
  },
  {
   "cell_type": "markdown",
   "id": "c7b8c534-4c41-41a2-8677-05b47f15be46",
   "metadata": {},
   "source": [
    "Our report is “trustworthy” because the “Adult Census Income” dataset was extracted from the 1994 Census bureau database by Ronny Kohavi and Barry Becker (Data Mining and Visualization, Silicon Graphics) and a set of reasonable records was extracted under the conditions ((AAGE > 16) && (AGI > 100) && (AFNLWGT > 1) && (HRSWK > 0 )). <br>\n",
    "\n",
    "*What methods do we plan on using?* <br>\n",
    "\n",
    "Splitting the dataset into training and testing datasets. Set aside 30% of our dataset to use as the testing dataset.\n",
    "To find the best number of predictors, we will use the forward/backward variable selection method to choose the best predictive model. \n",
    "To choose the best model, we will estimate MSE using Mallw’s Cp, IC or BIC.\n",
    "Check the performance of the model. If possible, we will add try to use both selection method and compare them. <br>\n",
    "\n",
    "*What do we expect to achieve?* <br>\n",
    "\n",
    "We expect to predict a person’s future working hours per week by using our predictive model. For example, given a person’s native country, sex, race, occupation and marital status, we can predict the person’s working hours per week. <br>\n",
    "\n",
    "*What impact could our results have?* <br>\n",
    "\n",
    "The findings could provide people to forecast their future working hours per week more accurately by only considering relevant predictor metrics. This model could also be used to perform a preliminary screen on who is likely to work longer. By identifying what variables are relevant to the working hours, people could have a basic idea of their future work. <br>\n",
    "\n",
    "A future direction could be to analyze the accuracy of the predictor for other areas and datasets, such as do other variables in other dataset affect the number of working hours?\n"
   ]
  },
  {
   "cell_type": "markdown",
   "id": "3684d2ac-033e-45c1-a4cd-83c73beaf5a3",
   "metadata": {},
   "source": [
    "**References**"
   ]
  },
  {
   "cell_type": "markdown",
   "id": "699b9824-338c-448a-8a0e-d486e27ffa65",
   "metadata": {},
   "source": [
    "Kohavi, R. & Becker, B. (1994). Adult Census Income [census report] Retrieved July 21, 2022, from Kaggle. https://www.kaggle.com/datasets/uciml/adult-census-income?search=cite <br>\n",
    "Dunga, S. H. (2017). a gender and marital status analysis of household income in a low-income township. Studia Universitatis Babeș-Bolyai. Oeconomica, 62(1), 20-30. https://doi.org/10.1515/subboec-2017-0002 <br>\n",
    "Messenger, J.C., Lee, S. & McCann, D. (2007). Working Time Around the World: Trends in Working Hours, Laws and Policies in a Global Comparative Perspective. Routledge. https://doi.org/10.4324/9780203945216 <br>\n",
    "Clawson, D. & Gerstel, N. (2014). Unequal Time: Gender, Class and Family in Employment Schedules. Russell Sage Foundation. "
   ]
  },
  {
   "cell_type": "code",
   "execution_count": null,
   "id": "f641b72d-4c04-4ebc-bfb9-0e6539fd1ca8",
   "metadata": {},
   "outputs": [],
   "source": []
  }
 ],
 "metadata": {
  "kernelspec": {
   "display_name": "R",
   "language": "R",
   "name": "ir"
  },
  "language_info": {
   "codemirror_mode": "r",
   "file_extension": ".r",
   "mimetype": "text/x-r-source",
   "name": "R",
   "pygments_lexer": "r",
   "version": "4.1.3"
  }
 },
 "nbformat": 4,
 "nbformat_minor": 5
}
