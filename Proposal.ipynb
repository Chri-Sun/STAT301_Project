{
 "cells": [
  {
   "cell_type": "markdown",
   "id": "97327267-8b44-4010-96ad-35777ea25af5",
   "metadata": {},
   "source": [
    "**STAT 301: Project Proposal** <br>\n",
    "**Group 5** : Hannah Ban, Christine Sun, Eric Tang, Luqi Tang"
   ]
  },
  {
   "cell_type": "markdown",
   "id": "7421360c-b041-497d-a661-31081d79067c",
   "metadata": {},
   "source": [
    "**Introduction**"
   ]
  },
  {
   "cell_type": "markdown",
   "id": "8c0f1b5e-726d-4a09-a686-6eba253ac944",
   "metadata": {},
   "source": [
    "Existing academic scholarship attempts to account for the factors that predict adult income. A book by Messenger et al. (2007) addresses working time, including national trends in working hours among different countries. Chapter 4 examines the relationship between working hours and various age and gender cohorts. Their conclusion that age and gender are associated with working hours is illustrated through an international “gender gap” and a general reduction in working hours for individuals over 65 (Messenger et al., 2007). Similarly, a regression analysis conducted by Dunga (2017) based on a low-income, South African township concludes that marital status correlates with household income levels. <br>\n",
    "From a sociological perspective, Clawson and Gerstel (2014) examine the ways that gender, class, and familial interactions affect workers’ working hours and their responses to unpredictable events that impact their work. They noted that gender plays a significant role inside and outside of the workplace—especially pertaining to resolving unpredictable circumstances and allocating work hours, while different socioeconomic classes exert varying degrees of control over their hours (Clawson & Gerstel, 2014). <br>\n",
    "\tHaving deliberated previous literature surrounding adult income, it is relevant to  examine the possibility of projecting working hours based on multiple factors. We will analyse data collected in 1994 by Ronny Kohavi and Barry Becker for the United States Census Bureau database. The dataset represents a set of reasonable records where all observed individuals are older than 16 with an income greater than $100, working more than 0 hours per week, and each observed individual is representative of more than a single American adult. The response variable will be the number of hours worked per week. <br>\n",
    "\n",
    "> The following is the link of data set: https://www.kaggle.com/datasets/uciml/adult-census-income"
   ]
  },
  {
   "cell_type": "markdown",
   "id": "880fd9ff-b267-4f63-8a34-b296b1e6c784",
   "metadata": {},
   "source": [
    "**Preliminary Results**"
   ]
  },
  {
   "cell_type": "code",
   "execution_count": 297,
   "id": "56e7e31b-c8d7-4ae9-ac0b-7e638ae04ec7",
   "metadata": {},
   "outputs": [],
   "source": [
    "library(tidyverse)\n",
    "library(repr)\n",
    "library(digest)\n",
    "library(infer)\n",
    "# library(gridExtra)\n",
    "library(broom)\n",
    "# library(leaps)\n",
    "library(GGally)\n",
    "library(mltools)\n",
    "library(cowplot)\n",
    "# library(AER)"
   ]
  },
  {
   "cell_type": "code",
   "execution_count": 298,
   "id": "3da3ea84-ee8b-447a-ba79-698424ba2b48",
   "metadata": {},
   "outputs": [
    {
     "name": "stderr",
     "output_type": "stream",
     "text": [
      "\u001b[1mRows: \u001b[22m\u001b[34m32561\u001b[39m \u001b[1mColumns: \u001b[22m\u001b[34m15\u001b[39m\n",
      "\u001b[36m--\u001b[39m \u001b[1mColumn specification\u001b[22m \u001b[36m------------------------------------------------------------------------------------------------\u001b[39m\n",
      "\u001b[1mDelimiter:\u001b[22m \",\"\n",
      "\u001b[31mchr\u001b[39m (9): workclass, education, marital.status, occupation, relationship, rac...\n",
      "\u001b[32mdbl\u001b[39m (6): age, fnlwgt, education.num, capital.gain, capital.loss, hours.per.week\n",
      "\n",
      "\u001b[36mi\u001b[39m Use `spec()` to retrieve the full column specification for this data.\n",
      "\u001b[36mi\u001b[39m Specify the column types or set `show_col_types = FALSE` to quiet this message.\n"
     ]
    }
   ],
   "source": [
    "#reading the data\n",
    "raw_adult_df<-read_csv(\"https://raw.githubusercontent.com/NingWang0123/stat201_project/main/adult.csv\")"
   ]
  },
  {
   "cell_type": "code",
   "execution_count": 299,
   "id": "124bc2c4-8f5a-4e02-be6e-7f9842c2f1e2",
   "metadata": {},
   "outputs": [
    {
     "data": {
      "text/html": [
       "<table class=\"dataframe\">\n",
       "<caption>A tibble: 6 × 15</caption>\n",
       "<thead>\n",
       "\t<tr><th scope=col>age</th><th scope=col>workclass</th><th scope=col>fnlwgt</th><th scope=col>education</th><th scope=col>education.num</th><th scope=col>marital.status</th><th scope=col>occupation</th><th scope=col>relationship</th><th scope=col>race</th><th scope=col>sex</th><th scope=col>capital.gain</th><th scope=col>capital.loss</th><th scope=col>hours.per.week</th><th scope=col>native.country</th><th scope=col>income</th></tr>\n",
       "\t<tr><th scope=col>&lt;dbl&gt;</th><th scope=col>&lt;chr&gt;</th><th scope=col>&lt;dbl&gt;</th><th scope=col>&lt;chr&gt;</th><th scope=col>&lt;dbl&gt;</th><th scope=col>&lt;chr&gt;</th><th scope=col>&lt;chr&gt;</th><th scope=col>&lt;chr&gt;</th><th scope=col>&lt;chr&gt;</th><th scope=col>&lt;chr&gt;</th><th scope=col>&lt;dbl&gt;</th><th scope=col>&lt;dbl&gt;</th><th scope=col>&lt;dbl&gt;</th><th scope=col>&lt;chr&gt;</th><th scope=col>&lt;chr&gt;</th></tr>\n",
       "</thead>\n",
       "<tbody>\n",
       "\t<tr><td>90</td><td><span style=white-space:pre-wrap>?      </span></td><td> 77053</td><td><span style=white-space:pre-wrap>HS-grad     </span></td><td> 9</td><td><span style=white-space:pre-wrap>Widowed  </span></td><td><span style=white-space:pre-wrap>?                </span></td><td>Not-in-family</td><td>White</td><td>Female</td><td>0</td><td>4356</td><td>40</td><td>United-States</td><td>&lt;=50K</td></tr>\n",
       "\t<tr><td>82</td><td>Private</td><td>132870</td><td><span style=white-space:pre-wrap>HS-grad     </span></td><td> 9</td><td><span style=white-space:pre-wrap>Widowed  </span></td><td><span style=white-space:pre-wrap>Exec-managerial  </span></td><td>Not-in-family</td><td>White</td><td>Female</td><td>0</td><td>4356</td><td>18</td><td>United-States</td><td>&lt;=50K</td></tr>\n",
       "\t<tr><td>66</td><td><span style=white-space:pre-wrap>?      </span></td><td>186061</td><td>Some-college</td><td>10</td><td><span style=white-space:pre-wrap>Widowed  </span></td><td><span style=white-space:pre-wrap>?                </span></td><td><span style=white-space:pre-wrap>Unmarried    </span></td><td>Black</td><td>Female</td><td>0</td><td>4356</td><td>40</td><td>United-States</td><td>&lt;=50K</td></tr>\n",
       "\t<tr><td>54</td><td>Private</td><td>140359</td><td><span style=white-space:pre-wrap>7th-8th     </span></td><td> 4</td><td>Divorced </td><td>Machine-op-inspct</td><td><span style=white-space:pre-wrap>Unmarried    </span></td><td>White</td><td>Female</td><td>0</td><td>3900</td><td>40</td><td>United-States</td><td>&lt;=50K</td></tr>\n",
       "\t<tr><td>41</td><td>Private</td><td>264663</td><td>Some-college</td><td>10</td><td>Separated</td><td><span style=white-space:pre-wrap>Prof-specialty   </span></td><td><span style=white-space:pre-wrap>Own-child    </span></td><td>White</td><td>Female</td><td>0</td><td>3900</td><td>40</td><td>United-States</td><td>&lt;=50K</td></tr>\n",
       "\t<tr><td>34</td><td>Private</td><td>216864</td><td><span style=white-space:pre-wrap>HS-grad     </span></td><td> 9</td><td>Divorced </td><td><span style=white-space:pre-wrap>Other-service    </span></td><td><span style=white-space:pre-wrap>Unmarried    </span></td><td>White</td><td>Female</td><td>0</td><td>3770</td><td>45</td><td>United-States</td><td>&lt;=50K</td></tr>\n",
       "</tbody>\n",
       "</table>\n"
      ],
      "text/latex": [
       "A tibble: 6 × 15\n",
       "\\begin{tabular}{lllllllllllllll}\n",
       " age & workclass & fnlwgt & education & education.num & marital.status & occupation & relationship & race & sex & capital.gain & capital.loss & hours.per.week & native.country & income\\\\\n",
       " <dbl> & <chr> & <dbl> & <chr> & <dbl> & <chr> & <chr> & <chr> & <chr> & <chr> & <dbl> & <dbl> & <dbl> & <chr> & <chr>\\\\\n",
       "\\hline\n",
       "\t 90 & ?       &  77053 & HS-grad      &  9 & Widowed   & ?                 & Not-in-family & White & Female & 0 & 4356 & 40 & United-States & <=50K\\\\\n",
       "\t 82 & Private & 132870 & HS-grad      &  9 & Widowed   & Exec-managerial   & Not-in-family & White & Female & 0 & 4356 & 18 & United-States & <=50K\\\\\n",
       "\t 66 & ?       & 186061 & Some-college & 10 & Widowed   & ?                 & Unmarried     & Black & Female & 0 & 4356 & 40 & United-States & <=50K\\\\\n",
       "\t 54 & Private & 140359 & 7th-8th      &  4 & Divorced  & Machine-op-inspct & Unmarried     & White & Female & 0 & 3900 & 40 & United-States & <=50K\\\\\n",
       "\t 41 & Private & 264663 & Some-college & 10 & Separated & Prof-specialty    & Own-child     & White & Female & 0 & 3900 & 40 & United-States & <=50K\\\\\n",
       "\t 34 & Private & 216864 & HS-grad      &  9 & Divorced  & Other-service     & Unmarried     & White & Female & 0 & 3770 & 45 & United-States & <=50K\\\\\n",
       "\\end{tabular}\n"
      ],
      "text/markdown": [
       "\n",
       "A tibble: 6 × 15\n",
       "\n",
       "| age &lt;dbl&gt; | workclass &lt;chr&gt; | fnlwgt &lt;dbl&gt; | education &lt;chr&gt; | education.num &lt;dbl&gt; | marital.status &lt;chr&gt; | occupation &lt;chr&gt; | relationship &lt;chr&gt; | race &lt;chr&gt; | sex &lt;chr&gt; | capital.gain &lt;dbl&gt; | capital.loss &lt;dbl&gt; | hours.per.week &lt;dbl&gt; | native.country &lt;chr&gt; | income &lt;chr&gt; |\n",
       "|---|---|---|---|---|---|---|---|---|---|---|---|---|---|---|\n",
       "| 90 | ?       |  77053 | HS-grad      |  9 | Widowed   | ?                 | Not-in-family | White | Female | 0 | 4356 | 40 | United-States | &lt;=50K |\n",
       "| 82 | Private | 132870 | HS-grad      |  9 | Widowed   | Exec-managerial   | Not-in-family | White | Female | 0 | 4356 | 18 | United-States | &lt;=50K |\n",
       "| 66 | ?       | 186061 | Some-college | 10 | Widowed   | ?                 | Unmarried     | Black | Female | 0 | 4356 | 40 | United-States | &lt;=50K |\n",
       "| 54 | Private | 140359 | 7th-8th      |  4 | Divorced  | Machine-op-inspct | Unmarried     | White | Female | 0 | 3900 | 40 | United-States | &lt;=50K |\n",
       "| 41 | Private | 264663 | Some-college | 10 | Separated | Prof-specialty    | Own-child     | White | Female | 0 | 3900 | 40 | United-States | &lt;=50K |\n",
       "| 34 | Private | 216864 | HS-grad      |  9 | Divorced  | Other-service     | Unmarried     | White | Female | 0 | 3770 | 45 | United-States | &lt;=50K |\n",
       "\n"
      ],
      "text/plain": [
       "  age workclass fnlwgt education    education.num marital.status\n",
       "1 90  ?          77053 HS-grad       9            Widowed       \n",
       "2 82  Private   132870 HS-grad       9            Widowed       \n",
       "3 66  ?         186061 Some-college 10            Widowed       \n",
       "4 54  Private   140359 7th-8th       4            Divorced      \n",
       "5 41  Private   264663 Some-college 10            Separated     \n",
       "6 34  Private   216864 HS-grad       9            Divorced      \n",
       "  occupation        relationship  race  sex    capital.gain capital.loss\n",
       "1 ?                 Not-in-family White Female 0            4356        \n",
       "2 Exec-managerial   Not-in-family White Female 0            4356        \n",
       "3 ?                 Unmarried     Black Female 0            4356        \n",
       "4 Machine-op-inspct Unmarried     White Female 0            3900        \n",
       "5 Prof-specialty    Own-child     White Female 0            3900        \n",
       "6 Other-service     Unmarried     White Female 0            3770        \n",
       "  hours.per.week native.country income\n",
       "1 40             United-States  <=50K \n",
       "2 18             United-States  <=50K \n",
       "3 40             United-States  <=50K \n",
       "4 40             United-States  <=50K \n",
       "5 40             United-States  <=50K \n",
       "6 45             United-States  <=50K "
      ]
     },
     "metadata": {},
     "output_type": "display_data"
    },
    {
     "data": {
      "text/html": [
       "32561"
      ],
      "text/latex": [
       "32561"
      ],
      "text/markdown": [
       "32561"
      ],
      "text/plain": [
       "[1] 32561"
      ]
     },
     "metadata": {},
     "output_type": "display_data"
    },
    {
     "data": {
      "text/html": [
       "FALSE"
      ],
      "text/latex": [
       "FALSE"
      ],
      "text/markdown": [
       "FALSE"
      ],
      "text/plain": [
       "[1] FALSE"
      ]
     },
     "metadata": {},
     "output_type": "display_data"
    }
   ],
   "source": [
    "#viewing the data\n",
    "head(raw_adult_df)\n",
    "nrow(raw_adult_df)\n",
    "any(is.na(raw_adult_df))"
   ]
  },
  {
   "cell_type": "markdown",
   "id": "c2eb9cb3-baf7-48b6-bf21-3176560ccb87",
   "metadata": {},
   "source": [
    "The data contains no \"NA\" values. However, we should remove rows with \"?\" values. The variables are of type double and character so we will convert character variables to factors instead for ease of use."
   ]
  },
  {
   "cell_type": "code",
   "execution_count": 300,
   "id": "38fb110d-83af-4c0e-a427-873481a43a20",
   "metadata": {},
   "outputs": [],
   "source": [
    "#cleaning the data and removing the \"?\" observations\n",
    "noques_adult <- raw_adult_df %>% filter(!grepl(\"\\\\?\", workclass))\n",
    "noques_adult <- noques_adult %>% filter(!grepl(\"\\\\?\", education))\n",
    "noques_adult <- noques_adult %>% filter(!grepl(\"\\\\?\", marital.status))\n",
    "noques_adult <- noques_adult %>% filter(!grepl(\"\\\\?\", occupation))\n",
    "noques_adult <- noques_adult %>% filter(!grepl(\"\\\\?\", relationship))\n",
    "noques_adult <- noques_adult %>% filter(!grepl(\"\\\\?\", race))\n",
    "noques_adult <- noques_adult %>% filter(!grepl(\"\\\\?\", sex))\n",
    "noques_adult <- noques_adult %>% filter(!grepl(\"\\\\?\", native.country))\n",
    "noques_adult <- noques_adult %>% filter(!grepl(\"\\\\?\", income))\n",
    "noques_adult$workclass <- as.factor(noques_adult$workclass)\n",
    "noques_adult$education <- as.factor(noques_adult$education)\n",
    "noques_adult$marital.status <- as.factor(noques_adult$marital.status)\n",
    "noques_adult$occupation <- as.factor(noques_adult$occupation)\n",
    "noques_adult$relationship <- as.factor(noques_adult$relationship)\n",
    "noques_adult$race <- as.factor(noques_adult$race)\n",
    "noques_adult$sex <- as.factor(noques_adult$sex)\n",
    "noques_adult$native.country <- as.factor(noques_adult$native.country)\n",
    "noques_adult$income <- as.factor(noques_adult$income)"
   ]
  },
  {
   "cell_type": "code",
   "execution_count": 301,
   "id": "196f263e-dba2-4238-a017-1bf58f1092a7",
   "metadata": {},
   "outputs": [
    {
     "data": {
      "text/html": [
       "<table class=\"dataframe\">\n",
       "<caption>A tibble: 6 × 15</caption>\n",
       "<thead>\n",
       "\t<tr><th scope=col>age</th><th scope=col>workclass</th><th scope=col>fnlwgt</th><th scope=col>education</th><th scope=col>education.num</th><th scope=col>marital.status</th><th scope=col>occupation</th><th scope=col>relationship</th><th scope=col>race</th><th scope=col>sex</th><th scope=col>capital.gain</th><th scope=col>capital.loss</th><th scope=col>hours.per.week</th><th scope=col>native.country</th><th scope=col>income</th></tr>\n",
       "\t<tr><th scope=col>&lt;dbl&gt;</th><th scope=col>&lt;fct&gt;</th><th scope=col>&lt;dbl&gt;</th><th scope=col>&lt;fct&gt;</th><th scope=col>&lt;dbl&gt;</th><th scope=col>&lt;fct&gt;</th><th scope=col>&lt;fct&gt;</th><th scope=col>&lt;fct&gt;</th><th scope=col>&lt;fct&gt;</th><th scope=col>&lt;fct&gt;</th><th scope=col>&lt;dbl&gt;</th><th scope=col>&lt;dbl&gt;</th><th scope=col>&lt;dbl&gt;</th><th scope=col>&lt;fct&gt;</th><th scope=col>&lt;fct&gt;</th></tr>\n",
       "</thead>\n",
       "<tbody>\n",
       "\t<tr><td>82</td><td><span style=white-space:pre-wrap>Private  </span></td><td>132870</td><td><span style=white-space:pre-wrap>HS-grad     </span></td><td> 9</td><td><span style=white-space:pre-wrap>Widowed      </span></td><td><span style=white-space:pre-wrap>Exec-managerial  </span></td><td>Not-in-family </td><td>White</td><td>Female</td><td>0</td><td>4356</td><td>18</td><td>United-States</td><td>&lt;=50K</td></tr>\n",
       "\t<tr><td>54</td><td><span style=white-space:pre-wrap>Private  </span></td><td>140359</td><td><span style=white-space:pre-wrap>7th-8th     </span></td><td> 4</td><td><span style=white-space:pre-wrap>Divorced     </span></td><td>Machine-op-inspct</td><td><span style=white-space:pre-wrap>Unmarried     </span></td><td>White</td><td>Female</td><td>0</td><td>3900</td><td>40</td><td>United-States</td><td>&lt;=50K</td></tr>\n",
       "\t<tr><td>41</td><td><span style=white-space:pre-wrap>Private  </span></td><td>264663</td><td>Some-college</td><td>10</td><td><span style=white-space:pre-wrap>Separated    </span></td><td><span style=white-space:pre-wrap>Prof-specialty   </span></td><td><span style=white-space:pre-wrap>Own-child     </span></td><td>White</td><td>Female</td><td>0</td><td>3900</td><td>40</td><td>United-States</td><td>&lt;=50K</td></tr>\n",
       "\t<tr><td>34</td><td><span style=white-space:pre-wrap>Private  </span></td><td>216864</td><td><span style=white-space:pre-wrap>HS-grad     </span></td><td> 9</td><td><span style=white-space:pre-wrap>Divorced     </span></td><td><span style=white-space:pre-wrap>Other-service    </span></td><td><span style=white-space:pre-wrap>Unmarried     </span></td><td>White</td><td>Female</td><td>0</td><td>3770</td><td>45</td><td>United-States</td><td>&lt;=50K</td></tr>\n",
       "\t<tr><td>38</td><td><span style=white-space:pre-wrap>Private  </span></td><td>150601</td><td><span style=white-space:pre-wrap>10th        </span></td><td> 6</td><td><span style=white-space:pre-wrap>Separated    </span></td><td><span style=white-space:pre-wrap>Adm-clerical     </span></td><td><span style=white-space:pre-wrap>Unmarried     </span></td><td>White</td><td><span style=white-space:pre-wrap>Male  </span></td><td>0</td><td>3770</td><td>40</td><td>United-States</td><td>&lt;=50K</td></tr>\n",
       "\t<tr><td>74</td><td>State-gov</td><td> 88638</td><td><span style=white-space:pre-wrap>Doctorate   </span></td><td>16</td><td>Never-married</td><td><span style=white-space:pre-wrap>Prof-specialty   </span></td><td>Other-relative</td><td>White</td><td>Female</td><td>0</td><td>3683</td><td>20</td><td>United-States</td><td>&gt;50K </td></tr>\n",
       "</tbody>\n",
       "</table>\n"
      ],
      "text/latex": [
       "A tibble: 6 × 15\n",
       "\\begin{tabular}{lllllllllllllll}\n",
       " age & workclass & fnlwgt & education & education.num & marital.status & occupation & relationship & race & sex & capital.gain & capital.loss & hours.per.week & native.country & income\\\\\n",
       " <dbl> & <fct> & <dbl> & <fct> & <dbl> & <fct> & <fct> & <fct> & <fct> & <fct> & <dbl> & <dbl> & <dbl> & <fct> & <fct>\\\\\n",
       "\\hline\n",
       "\t 82 & Private   & 132870 & HS-grad      &  9 & Widowed       & Exec-managerial   & Not-in-family  & White & Female & 0 & 4356 & 18 & United-States & <=50K\\\\\n",
       "\t 54 & Private   & 140359 & 7th-8th      &  4 & Divorced      & Machine-op-inspct & Unmarried      & White & Female & 0 & 3900 & 40 & United-States & <=50K\\\\\n",
       "\t 41 & Private   & 264663 & Some-college & 10 & Separated     & Prof-specialty    & Own-child      & White & Female & 0 & 3900 & 40 & United-States & <=50K\\\\\n",
       "\t 34 & Private   & 216864 & HS-grad      &  9 & Divorced      & Other-service     & Unmarried      & White & Female & 0 & 3770 & 45 & United-States & <=50K\\\\\n",
       "\t 38 & Private   & 150601 & 10th         &  6 & Separated     & Adm-clerical      & Unmarried      & White & Male   & 0 & 3770 & 40 & United-States & <=50K\\\\\n",
       "\t 74 & State-gov &  88638 & Doctorate    & 16 & Never-married & Prof-specialty    & Other-relative & White & Female & 0 & 3683 & 20 & United-States & >50K \\\\\n",
       "\\end{tabular}\n"
      ],
      "text/markdown": [
       "\n",
       "A tibble: 6 × 15\n",
       "\n",
       "| age &lt;dbl&gt; | workclass &lt;fct&gt; | fnlwgt &lt;dbl&gt; | education &lt;fct&gt; | education.num &lt;dbl&gt; | marital.status &lt;fct&gt; | occupation &lt;fct&gt; | relationship &lt;fct&gt; | race &lt;fct&gt; | sex &lt;fct&gt; | capital.gain &lt;dbl&gt; | capital.loss &lt;dbl&gt; | hours.per.week &lt;dbl&gt; | native.country &lt;fct&gt; | income &lt;fct&gt; |\n",
       "|---|---|---|---|---|---|---|---|---|---|---|---|---|---|---|\n",
       "| 82 | Private   | 132870 | HS-grad      |  9 | Widowed       | Exec-managerial   | Not-in-family  | White | Female | 0 | 4356 | 18 | United-States | &lt;=50K |\n",
       "| 54 | Private   | 140359 | 7th-8th      |  4 | Divorced      | Machine-op-inspct | Unmarried      | White | Female | 0 | 3900 | 40 | United-States | &lt;=50K |\n",
       "| 41 | Private   | 264663 | Some-college | 10 | Separated     | Prof-specialty    | Own-child      | White | Female | 0 | 3900 | 40 | United-States | &lt;=50K |\n",
       "| 34 | Private   | 216864 | HS-grad      |  9 | Divorced      | Other-service     | Unmarried      | White | Female | 0 | 3770 | 45 | United-States | &lt;=50K |\n",
       "| 38 | Private   | 150601 | 10th         |  6 | Separated     | Adm-clerical      | Unmarried      | White | Male   | 0 | 3770 | 40 | United-States | &lt;=50K |\n",
       "| 74 | State-gov |  88638 | Doctorate    | 16 | Never-married | Prof-specialty    | Other-relative | White | Female | 0 | 3683 | 20 | United-States | &gt;50K  |\n",
       "\n"
      ],
      "text/plain": [
       "  age workclass fnlwgt education    education.num marital.status\n",
       "1 82  Private   132870 HS-grad       9            Widowed       \n",
       "2 54  Private   140359 7th-8th       4            Divorced      \n",
       "3 41  Private   264663 Some-college 10            Separated     \n",
       "4 34  Private   216864 HS-grad       9            Divorced      \n",
       "5 38  Private   150601 10th          6            Separated     \n",
       "6 74  State-gov  88638 Doctorate    16            Never-married \n",
       "  occupation        relationship   race  sex    capital.gain capital.loss\n",
       "1 Exec-managerial   Not-in-family  White Female 0            4356        \n",
       "2 Machine-op-inspct Unmarried      White Female 0            3900        \n",
       "3 Prof-specialty    Own-child      White Female 0            3900        \n",
       "4 Other-service     Unmarried      White Female 0            3770        \n",
       "5 Adm-clerical      Unmarried      White Male   0            3770        \n",
       "6 Prof-specialty    Other-relative White Female 0            3683        \n",
       "  hours.per.week native.country income\n",
       "1 18             United-States  <=50K \n",
       "2 40             United-States  <=50K \n",
       "3 40             United-States  <=50K \n",
       "4 45             United-States  <=50K \n",
       "5 40             United-States  <=50K \n",
       "6 20             United-States  >50K  "
      ]
     },
     "metadata": {},
     "output_type": "display_data"
    },
    {
     "data": {
      "text/html": [
       "30162"
      ],
      "text/latex": [
       "30162"
      ],
      "text/markdown": [
       "30162"
      ],
      "text/plain": [
       "[1] 30162"
      ]
     },
     "metadata": {},
     "output_type": "display_data"
    }
   ],
   "source": [
    "head(noques_adult)\n",
    "nrow(noques_adult)"
   ]
  },
  {
   "cell_type": "markdown",
   "id": "2526c1cd-03cc-44a2-9cdc-4b830ce1ec30",
   "metadata": {},
   "source": [
    "While cleaning the data, we removed 2 399 rows. Now we will examine the categorical variables and determine if any require grouping for ease of use (to ensure that training and testing doesn't encounter variables left unaccounted for)."
   ]
  },
  {
   "cell_type": "code",
   "execution_count": 302,
   "id": "07145ec7-031b-4a96-9d3a-4b0dd59b8ffe",
   "metadata": {},
   "outputs": [
    {
     "data": {
      "text/html": [
       "<table class=\"dataframe\">\n",
       "<caption>A spec_tbl_df: 16 × 2</caption>\n",
       "<thead>\n",
       "\t<tr><th scope=col>education</th><th scope=col>n</th></tr>\n",
       "\t<tr><th scope=col>&lt;fct&gt;</th><th scope=col>&lt;int&gt;</th></tr>\n",
       "</thead>\n",
       "<tbody>\n",
       "\t<tr><td>10th        </td><td> 820</td></tr>\n",
       "\t<tr><td>11th        </td><td>1048</td></tr>\n",
       "\t<tr><td>12th        </td><td> 377</td></tr>\n",
       "\t<tr><td>1st-4th     </td><td> 151</td></tr>\n",
       "\t<tr><td>5th-6th     </td><td> 288</td></tr>\n",
       "\t<tr><td>7th-8th     </td><td> 557</td></tr>\n",
       "\t<tr><td>9th         </td><td> 455</td></tr>\n",
       "\t<tr><td>Assoc-acdm  </td><td>1008</td></tr>\n",
       "\t<tr><td>Assoc-voc   </td><td>1307</td></tr>\n",
       "\t<tr><td>Bachelors   </td><td>5044</td></tr>\n",
       "\t<tr><td>Doctorate   </td><td> 375</td></tr>\n",
       "\t<tr><td>HS-grad     </td><td>9840</td></tr>\n",
       "\t<tr><td>Masters     </td><td>1627</td></tr>\n",
       "\t<tr><td>Preschool   </td><td>  45</td></tr>\n",
       "\t<tr><td>Prof-school </td><td> 542</td></tr>\n",
       "\t<tr><td>Some-college</td><td>6678</td></tr>\n",
       "</tbody>\n",
       "</table>\n"
      ],
      "text/latex": [
       "A spec\\_tbl\\_df: 16 × 2\n",
       "\\begin{tabular}{ll}\n",
       " education & n\\\\\n",
       " <fct> & <int>\\\\\n",
       "\\hline\n",
       "\t 10th         &  820\\\\\n",
       "\t 11th         & 1048\\\\\n",
       "\t 12th         &  377\\\\\n",
       "\t 1st-4th      &  151\\\\\n",
       "\t 5th-6th      &  288\\\\\n",
       "\t 7th-8th      &  557\\\\\n",
       "\t 9th          &  455\\\\\n",
       "\t Assoc-acdm   & 1008\\\\\n",
       "\t Assoc-voc    & 1307\\\\\n",
       "\t Bachelors    & 5044\\\\\n",
       "\t Doctorate    &  375\\\\\n",
       "\t HS-grad      & 9840\\\\\n",
       "\t Masters      & 1627\\\\\n",
       "\t Preschool    &   45\\\\\n",
       "\t Prof-school  &  542\\\\\n",
       "\t Some-college & 6678\\\\\n",
       "\\end{tabular}\n"
      ],
      "text/markdown": [
       "\n",
       "A spec_tbl_df: 16 × 2\n",
       "\n",
       "| education &lt;fct&gt; | n &lt;int&gt; |\n",
       "|---|---|\n",
       "| 10th         |  820 |\n",
       "| 11th         | 1048 |\n",
       "| 12th         |  377 |\n",
       "| 1st-4th      |  151 |\n",
       "| 5th-6th      |  288 |\n",
       "| 7th-8th      |  557 |\n",
       "| 9th          |  455 |\n",
       "| Assoc-acdm   | 1008 |\n",
       "| Assoc-voc    | 1307 |\n",
       "| Bachelors    | 5044 |\n",
       "| Doctorate    |  375 |\n",
       "| HS-grad      | 9840 |\n",
       "| Masters      | 1627 |\n",
       "| Preschool    |   45 |\n",
       "| Prof-school  |  542 |\n",
       "| Some-college | 6678 |\n",
       "\n"
      ],
      "text/plain": [
       "   education    n   \n",
       "1  10th          820\n",
       "2  11th         1048\n",
       "3  12th          377\n",
       "4  1st-4th       151\n",
       "5  5th-6th       288\n",
       "6  7th-8th       557\n",
       "7  9th           455\n",
       "8  Assoc-acdm   1008\n",
       "9  Assoc-voc    1307\n",
       "10 Bachelors    5044\n",
       "11 Doctorate     375\n",
       "12 HS-grad      9840\n",
       "13 Masters      1627\n",
       "14 Preschool      45\n",
       "15 Prof-school   542\n",
       "16 Some-college 6678"
      ]
     },
     "metadata": {},
     "output_type": "display_data"
    }
   ],
   "source": [
    "noques_adult %>% count(education)"
   ]
  },
  {
   "cell_type": "code",
   "execution_count": 303,
   "id": "52bbb70e-98aa-45c1-9345-abc307597339",
   "metadata": {},
   "outputs": [],
   "source": [
    "# options(repr.plot.width = 10, repr.plot.height = 5)\n",
    "# education_bar <- noques_adult %>% ggplot(aes(x = education)) + geom_bar() +\n",
    "#     xlab(\"Education Level\") + \n",
    "#     ggtitle(\"Adults Grouped by Education Level\")\n",
    "# education_bar"
   ]
  },
  {
   "cell_type": "markdown",
   "id": "641a1459-b6f3-47a7-bec2-c6b8929edd79",
   "metadata": {},
   "source": [
    "We can see from counting the categories that the size of certain categories differ greatly from the size of other categories. For example, there are very few observations accounted for by the Preschool category. Before we try to group the categories, we will observe the education number (from education.num) assigned to each category."
   ]
  },
  {
   "cell_type": "code",
   "execution_count": 304,
   "id": "4aca113f-615a-4ce6-9b80-38601199aad9",
   "metadata": {},
   "outputs": [
    {
     "data": {
      "text/html": [
       "<table class=\"dataframe\">\n",
       "<caption>A tibble: 16 × 2</caption>\n",
       "<thead>\n",
       "\t<tr><th scope=col>education</th><th scope=col>education.num</th></tr>\n",
       "\t<tr><th scope=col>&lt;fct&gt;</th><th scope=col>&lt;dbl&gt;</th></tr>\n",
       "</thead>\n",
       "<tbody>\n",
       "\t<tr><td>Preschool   </td><td> 1</td></tr>\n",
       "\t<tr><td>1st-4th     </td><td> 2</td></tr>\n",
       "\t<tr><td>5th-6th     </td><td> 3</td></tr>\n",
       "\t<tr><td>7th-8th     </td><td> 4</td></tr>\n",
       "\t<tr><td>9th         </td><td> 5</td></tr>\n",
       "\t<tr><td>10th        </td><td> 6</td></tr>\n",
       "\t<tr><td>11th        </td><td> 7</td></tr>\n",
       "\t<tr><td>12th        </td><td> 8</td></tr>\n",
       "\t<tr><td>HS-grad     </td><td> 9</td></tr>\n",
       "\t<tr><td>Some-college</td><td>10</td></tr>\n",
       "\t<tr><td>Assoc-voc   </td><td>11</td></tr>\n",
       "\t<tr><td>Assoc-acdm  </td><td>12</td></tr>\n",
       "\t<tr><td>Bachelors   </td><td>13</td></tr>\n",
       "\t<tr><td>Masters     </td><td>14</td></tr>\n",
       "\t<tr><td>Prof-school </td><td>15</td></tr>\n",
       "\t<tr><td>Doctorate   </td><td>16</td></tr>\n",
       "</tbody>\n",
       "</table>\n"
      ],
      "text/latex": [
       "A tibble: 16 × 2\n",
       "\\begin{tabular}{ll}\n",
       " education & education.num\\\\\n",
       " <fct> & <dbl>\\\\\n",
       "\\hline\n",
       "\t Preschool    &  1\\\\\n",
       "\t 1st-4th      &  2\\\\\n",
       "\t 5th-6th      &  3\\\\\n",
       "\t 7th-8th      &  4\\\\\n",
       "\t 9th          &  5\\\\\n",
       "\t 10th         &  6\\\\\n",
       "\t 11th         &  7\\\\\n",
       "\t 12th         &  8\\\\\n",
       "\t HS-grad      &  9\\\\\n",
       "\t Some-college & 10\\\\\n",
       "\t Assoc-voc    & 11\\\\\n",
       "\t Assoc-acdm   & 12\\\\\n",
       "\t Bachelors    & 13\\\\\n",
       "\t Masters      & 14\\\\\n",
       "\t Prof-school  & 15\\\\\n",
       "\t Doctorate    & 16\\\\\n",
       "\\end{tabular}\n"
      ],
      "text/markdown": [
       "\n",
       "A tibble: 16 × 2\n",
       "\n",
       "| education &lt;fct&gt; | education.num &lt;dbl&gt; |\n",
       "|---|---|\n",
       "| Preschool    |  1 |\n",
       "| 1st-4th      |  2 |\n",
       "| 5th-6th      |  3 |\n",
       "| 7th-8th      |  4 |\n",
       "| 9th          |  5 |\n",
       "| 10th         |  6 |\n",
       "| 11th         |  7 |\n",
       "| 12th         |  8 |\n",
       "| HS-grad      |  9 |\n",
       "| Some-college | 10 |\n",
       "| Assoc-voc    | 11 |\n",
       "| Assoc-acdm   | 12 |\n",
       "| Bachelors    | 13 |\n",
       "| Masters      | 14 |\n",
       "| Prof-school  | 15 |\n",
       "| Doctorate    | 16 |\n",
       "\n"
      ],
      "text/plain": [
       "   education    education.num\n",
       "1  Preschool     1           \n",
       "2  1st-4th       2           \n",
       "3  5th-6th       3           \n",
       "4  7th-8th       4           \n",
       "5  9th           5           \n",
       "6  10th          6           \n",
       "7  11th          7           \n",
       "8  12th          8           \n",
       "9  HS-grad       9           \n",
       "10 Some-college 10           \n",
       "11 Assoc-voc    11           \n",
       "12 Assoc-acdm   12           \n",
       "13 Bachelors    13           \n",
       "14 Masters      14           \n",
       "15 Prof-school  15           \n",
       "16 Doctorate    16           "
      ]
     },
     "metadata": {},
     "output_type": "display_data"
    }
   ],
   "source": [
    "education_check <- noques_adult[!duplicated(noques_adult$education),] %>% select(education, education.num)\n",
    "education_check <- education_check[order(education_check$education.num),]\n",
    "education_check"
   ]
  },
  {
   "cell_type": "markdown",
   "id": "974e1456-4566-4d89-9cbd-627bb79bb5fa",
   "metadata": {},
   "source": [
    "From observing the existing categories, it would be most reasonable to form the following groups: never completed elementary, completed elementary and not high school, completed high school, completed college or bachelors degree or some equivalent, completed graduate level education or professional education. We will denote the groups by \"-Elementary\", \"-HighSchool\", \"=HighSchool\", \"LowUpper\", and \"HighUpper\", aligning with the order listed previously."
   ]
  },
  {
   "cell_type": "code",
   "execution_count": 305,
   "id": "1758504d-5b63-46a6-a0f0-550ef18624cf",
   "metadata": {},
   "outputs": [],
   "source": [
    "noques_adult <- noques_adult %>% mutate(education = case_when(education.num < 3 ~ \"-Elementary\",\n",
    "                        education.num >= 3 & education.num < 8 ~ \"-HighSchool\",\n",
    "                                                             education.num >= 8 & education.num < 10 ~ \"=HighSchool\",\n",
    "                                                             education.num >= 10 & education.num < 14 ~ \"LowUpper\",\n",
    "                                                             education.num >= 14 ~ \"HighUpper\"))\n",
    "noques_adult$education <- as.factor(noques_adult$education)\n",
    "noques_adult <- noques_adult %>% select(-education.num)\n",
    "noques_adult$marital.status <- ifelse((noques_adult$marital.status == \"Widowed\" | \n",
    "                                       noques_adult$marital.status == \"Divorced\" | \n",
    "                                       noques_adult$marital.status == \"Separated\" | \n",
    "                                       noques_adult$marital.status == \"Never-Married\"), \"Not Married\", \"Married\")\n",
    "noques_adult$marital.status <- as.factor(noques_adult$marital.status)\n",
    "\n"
   ]
  },
  {
   "cell_type": "code",
   "execution_count": 306,
   "id": "b6e4e920-95d4-45a4-bf37-4b79123c0f16",
   "metadata": {},
   "outputs": [
    {
     "data": {
      "text/html": [
       "<table class=\"dataframe\">\n",
       "<caption>A tibble: 41 × 2</caption>\n",
       "<thead>\n",
       "\t<tr><th scope=col>native.country</th><th scope=col>n</th></tr>\n",
       "\t<tr><th scope=col>&lt;fct&gt;</th><th scope=col>&lt;int&gt;</th></tr>\n",
       "</thead>\n",
       "<tbody>\n",
       "\t<tr><td>Cambodia                  </td><td>   18</td></tr>\n",
       "\t<tr><td>Canada                    </td><td>  107</td></tr>\n",
       "\t<tr><td>China                     </td><td>   68</td></tr>\n",
       "\t<tr><td>Columbia                  </td><td>   56</td></tr>\n",
       "\t<tr><td>Cuba                      </td><td>   92</td></tr>\n",
       "\t<tr><td>Dominican-Republic        </td><td>   67</td></tr>\n",
       "\t<tr><td>Ecuador                   </td><td>   27</td></tr>\n",
       "\t<tr><td>El-Salvador               </td><td>  100</td></tr>\n",
       "\t<tr><td>England                   </td><td>   86</td></tr>\n",
       "\t<tr><td>France                    </td><td>   27</td></tr>\n",
       "\t<tr><td>Germany                   </td><td>  128</td></tr>\n",
       "\t<tr><td>Greece                    </td><td>   29</td></tr>\n",
       "\t<tr><td>Guatemala                 </td><td>   63</td></tr>\n",
       "\t<tr><td>Haiti                     </td><td>   42</td></tr>\n",
       "\t<tr><td>Holand-Netherlands        </td><td>    1</td></tr>\n",
       "\t<tr><td>Honduras                  </td><td>   12</td></tr>\n",
       "\t<tr><td>Hong                      </td><td>   19</td></tr>\n",
       "\t<tr><td>Hungary                   </td><td>   13</td></tr>\n",
       "\t<tr><td>India                     </td><td>  100</td></tr>\n",
       "\t<tr><td>Iran                      </td><td>   42</td></tr>\n",
       "\t<tr><td>Ireland                   </td><td>   24</td></tr>\n",
       "\t<tr><td>Italy                     </td><td>   68</td></tr>\n",
       "\t<tr><td>Jamaica                   </td><td>   80</td></tr>\n",
       "\t<tr><td>Japan                     </td><td>   59</td></tr>\n",
       "\t<tr><td>Laos                      </td><td>   17</td></tr>\n",
       "\t<tr><td>Mexico                    </td><td>  610</td></tr>\n",
       "\t<tr><td>Nicaragua                 </td><td>   33</td></tr>\n",
       "\t<tr><td>Outlying-US(Guam-USVI-etc)</td><td>   14</td></tr>\n",
       "\t<tr><td>Peru                      </td><td>   30</td></tr>\n",
       "\t<tr><td>Philippines               </td><td>  188</td></tr>\n",
       "\t<tr><td>Poland                    </td><td>   56</td></tr>\n",
       "\t<tr><td>Portugal                  </td><td>   34</td></tr>\n",
       "\t<tr><td>Puerto-Rico               </td><td>  109</td></tr>\n",
       "\t<tr><td>Scotland                  </td><td>   11</td></tr>\n",
       "\t<tr><td>South                     </td><td>   71</td></tr>\n",
       "\t<tr><td>Taiwan                    </td><td>   42</td></tr>\n",
       "\t<tr><td>Thailand                  </td><td>   17</td></tr>\n",
       "\t<tr><td><span style=white-space:pre-wrap>Trinadad&amp;Tobago           </span></td><td><span style=white-space:pre-wrap>   18</span></td></tr>\n",
       "\t<tr><td>United-States             </td><td>27504</td></tr>\n",
       "\t<tr><td>Vietnam                   </td><td>   64</td></tr>\n",
       "\t<tr><td>Yugoslavia                </td><td>   16</td></tr>\n",
       "</tbody>\n",
       "</table>\n"
      ],
      "text/latex": [
       "A tibble: 41 × 2\n",
       "\\begin{tabular}{ll}\n",
       " native.country & n\\\\\n",
       " <fct> & <int>\\\\\n",
       "\\hline\n",
       "\t Cambodia                   &    18\\\\\n",
       "\t Canada                     &   107\\\\\n",
       "\t China                      &    68\\\\\n",
       "\t Columbia                   &    56\\\\\n",
       "\t Cuba                       &    92\\\\\n",
       "\t Dominican-Republic         &    67\\\\\n",
       "\t Ecuador                    &    27\\\\\n",
       "\t El-Salvador                &   100\\\\\n",
       "\t England                    &    86\\\\\n",
       "\t France                     &    27\\\\\n",
       "\t Germany                    &   128\\\\\n",
       "\t Greece                     &    29\\\\\n",
       "\t Guatemala                  &    63\\\\\n",
       "\t Haiti                      &    42\\\\\n",
       "\t Holand-Netherlands         &     1\\\\\n",
       "\t Honduras                   &    12\\\\\n",
       "\t Hong                       &    19\\\\\n",
       "\t Hungary                    &    13\\\\\n",
       "\t India                      &   100\\\\\n",
       "\t Iran                       &    42\\\\\n",
       "\t Ireland                    &    24\\\\\n",
       "\t Italy                      &    68\\\\\n",
       "\t Jamaica                    &    80\\\\\n",
       "\t Japan                      &    59\\\\\n",
       "\t Laos                       &    17\\\\\n",
       "\t Mexico                     &   610\\\\\n",
       "\t Nicaragua                  &    33\\\\\n",
       "\t Outlying-US(Guam-USVI-etc) &    14\\\\\n",
       "\t Peru                       &    30\\\\\n",
       "\t Philippines                &   188\\\\\n",
       "\t Poland                     &    56\\\\\n",
       "\t Portugal                   &    34\\\\\n",
       "\t Puerto-Rico                &   109\\\\\n",
       "\t Scotland                   &    11\\\\\n",
       "\t South                      &    71\\\\\n",
       "\t Taiwan                     &    42\\\\\n",
       "\t Thailand                   &    17\\\\\n",
       "\t Trinadad\\&Tobago            &    18\\\\\n",
       "\t United-States              & 27504\\\\\n",
       "\t Vietnam                    &    64\\\\\n",
       "\t Yugoslavia                 &    16\\\\\n",
       "\\end{tabular}\n"
      ],
      "text/markdown": [
       "\n",
       "A tibble: 41 × 2\n",
       "\n",
       "| native.country &lt;fct&gt; | n &lt;int&gt; |\n",
       "|---|---|\n",
       "| Cambodia                   |    18 |\n",
       "| Canada                     |   107 |\n",
       "| China                      |    68 |\n",
       "| Columbia                   |    56 |\n",
       "| Cuba                       |    92 |\n",
       "| Dominican-Republic         |    67 |\n",
       "| Ecuador                    |    27 |\n",
       "| El-Salvador                |   100 |\n",
       "| England                    |    86 |\n",
       "| France                     |    27 |\n",
       "| Germany                    |   128 |\n",
       "| Greece                     |    29 |\n",
       "| Guatemala                  |    63 |\n",
       "| Haiti                      |    42 |\n",
       "| Holand-Netherlands         |     1 |\n",
       "| Honduras                   |    12 |\n",
       "| Hong                       |    19 |\n",
       "| Hungary                    |    13 |\n",
       "| India                      |   100 |\n",
       "| Iran                       |    42 |\n",
       "| Ireland                    |    24 |\n",
       "| Italy                      |    68 |\n",
       "| Jamaica                    |    80 |\n",
       "| Japan                      |    59 |\n",
       "| Laos                       |    17 |\n",
       "| Mexico                     |   610 |\n",
       "| Nicaragua                  |    33 |\n",
       "| Outlying-US(Guam-USVI-etc) |    14 |\n",
       "| Peru                       |    30 |\n",
       "| Philippines                |   188 |\n",
       "| Poland                     |    56 |\n",
       "| Portugal                   |    34 |\n",
       "| Puerto-Rico                |   109 |\n",
       "| Scotland                   |    11 |\n",
       "| South                      |    71 |\n",
       "| Taiwan                     |    42 |\n",
       "| Thailand                   |    17 |\n",
       "| Trinadad&amp;Tobago            |    18 |\n",
       "| United-States              | 27504 |\n",
       "| Vietnam                    |    64 |\n",
       "| Yugoslavia                 |    16 |\n",
       "\n"
      ],
      "text/plain": [
       "   native.country             n    \n",
       "1  Cambodia                      18\n",
       "2  Canada                       107\n",
       "3  China                         68\n",
       "4  Columbia                      56\n",
       "5  Cuba                          92\n",
       "6  Dominican-Republic            67\n",
       "7  Ecuador                       27\n",
       "8  El-Salvador                  100\n",
       "9  England                       86\n",
       "10 France                        27\n",
       "11 Germany                      128\n",
       "12 Greece                        29\n",
       "13 Guatemala                     63\n",
       "14 Haiti                         42\n",
       "15 Holand-Netherlands             1\n",
       "16 Honduras                      12\n",
       "17 Hong                          19\n",
       "18 Hungary                       13\n",
       "19 India                        100\n",
       "20 Iran                          42\n",
       "21 Ireland                       24\n",
       "22 Italy                         68\n",
       "23 Jamaica                       80\n",
       "24 Japan                         59\n",
       "25 Laos                          17\n",
       "26 Mexico                       610\n",
       "27 Nicaragua                     33\n",
       "28 Outlying-US(Guam-USVI-etc)    14\n",
       "29 Peru                          30\n",
       "30 Philippines                  188\n",
       "31 Poland                        56\n",
       "32 Portugal                      34\n",
       "33 Puerto-Rico                  109\n",
       "34 Scotland                      11\n",
       "35 South                         71\n",
       "36 Taiwan                        42\n",
       "37 Thailand                      17\n",
       "38 Trinadad&Tobago               18\n",
       "39 United-States              27504\n",
       "40 Vietnam                       64\n",
       "41 Yugoslavia                    16"
      ]
     },
     "metadata": {},
     "output_type": "display_data"
    }
   ],
   "source": [
    "noques_adult %>% count(native.country)"
   ]
  },
  {
   "cell_type": "code",
   "execution_count": 307,
   "id": "56854532-ab14-48d0-b218-d6c8e4ec4f22",
   "metadata": {},
   "outputs": [],
   "source": [
    "# options(repr.plot.width = 50, repr.plot.height = 10)\n",
    "# country_bar <- noques_adult %>% ggplot(aes(x = native.country)) + geom_bar() +\n",
    "#     xlab(\"Native Country of Individual\") + \n",
    "#     ggtitle(\"Adults Grouped by Native Country\")\n",
    "# country_bar"
   ]
  },
  {
   "cell_type": "markdown",
   "id": "3f764e7d-3853-48ea-9b8d-72da07350ec7",
   "metadata": {},
   "source": [
    "We notice from the counted categories above that United-States dominates all other categories. It is most reasonable thus to group all other categories into an \"Other\" category."
   ]
  },
  {
   "cell_type": "code",
   "execution_count": 308,
   "id": "a778c446-e083-4e7e-97bb-426722827434",
   "metadata": {},
   "outputs": [],
   "source": [
    "noques_adult <- noques_adult %>% mutate(native.country = ifelse(native.country == \"United-States\", \"United-States\", \"Other\"))\n",
    "noques_adult$native.country <- as.factor(noques_adult$native.country)"
   ]
  },
  {
   "cell_type": "code",
   "execution_count": 309,
   "id": "41f40473-0126-4779-b7c7-5bf43dfb2b58",
   "metadata": {},
   "outputs": [
    {
     "data": {
      "text/html": [
       "<table class=\"dataframe\">\n",
       "<caption>A tibble: 2 × 1</caption>\n",
       "<thead>\n",
       "\t<tr><th scope=col>native.country</th></tr>\n",
       "\t<tr><th scope=col>&lt;fct&gt;</th></tr>\n",
       "</thead>\n",
       "<tbody>\n",
       "\t<tr><td>United-States</td></tr>\n",
       "\t<tr><td>Other        </td></tr>\n",
       "</tbody>\n",
       "</table>\n"
      ],
      "text/latex": [
       "A tibble: 2 × 1\n",
       "\\begin{tabular}{l}\n",
       " native.country\\\\\n",
       " <fct>\\\\\n",
       "\\hline\n",
       "\t United-States\\\\\n",
       "\t Other        \\\\\n",
       "\\end{tabular}\n"
      ],
      "text/markdown": [
       "\n",
       "A tibble: 2 × 1\n",
       "\n",
       "| native.country &lt;fct&gt; |\n",
       "|---|\n",
       "| United-States |\n",
       "| Other         |\n",
       "\n"
      ],
      "text/plain": [
       "  native.country\n",
       "1 United-States \n",
       "2 Other         "
      ]
     },
     "metadata": {},
     "output_type": "display_data"
    }
   ],
   "source": [
    "country_check <- noques_adult[!duplicated(noques_adult$native.country),] %>% select(native.country)\n",
    "country_check"
   ]
  },
  {
   "cell_type": "code",
   "execution_count": 310,
   "id": "a8b259d1-ba00-4db9-91ff-505ab2856540",
   "metadata": {},
   "outputs": [],
   "source": [
    "options(repr.plot.width = 10, repr.plot.height = 5)\n",
    "class_bar <- noques_adult %>% ggplot(aes(x = workclass)) + geom_bar() +\n",
    "    xlab(\"Work Class of Individual\") + \n",
    "    ggtitle(\"Adults Grouped by Work Class\")"
   ]
  },
  {
   "cell_type": "code",
   "execution_count": 311,
   "id": "f2a68154-eb23-4932-a217-952ea7860eb6",
   "metadata": {},
   "outputs": [
    {
     "data": {
      "text/html": [
       "14"
      ],
      "text/latex": [
       "14"
      ],
      "text/markdown": [
       "14"
      ],
      "text/plain": [
       "[1] 14"
      ]
     },
     "metadata": {},
     "output_type": "display_data"
    }
   ],
   "source": [
    "nrow(noques_adult %>% filter(workclass == \"Without-pay\"))"
   ]
  },
  {
   "cell_type": "code",
   "execution_count": 312,
   "id": "c66f7af2-8ad4-474a-b48e-9ce4c9ffaea9",
   "metadata": {},
   "outputs": [
    {
     "data": {
      "text/plain": [
       "      age                   workclass         fnlwgt              education    \n",
       " Min.   :17.00   Federal-gov     :  943   Min.   :  13769   -Elementary:  196  \n",
       " 1st Qu.:28.00   Local-gov       : 2067   1st Qu.: 117627   -HighSchool: 3168  \n",
       " Median :37.00   Private         :22286   Median : 178425   =HighSchool:10217  \n",
       " Mean   :38.44   Self-emp-inc    : 1074   Mean   : 189794   HighUpper  : 2544  \n",
       " 3rd Qu.:47.00   Self-emp-not-inc: 2499   3rd Qu.: 237629   LowUpper   :14037  \n",
       " Max.   :90.00   State-gov       : 1279   Max.   :1484705                      \n",
       "                 Without-pay     :   14                                        \n",
       "     marital.status            occupation           relationship  \n",
       " Married    :24182   Prof-specialty :4038   Husband       :12463  \n",
       " Not Married: 5980   Craft-repair   :4030   Not-in-family : 7726  \n",
       "                     Exec-managerial:3992   Other-relative:  889  \n",
       "                     Adm-clerical   :3721   Own-child     : 4466  \n",
       "                     Sales          :3584   Unmarried     : 3212  \n",
       "                     Other-service  :3212   Wife          : 1406  \n",
       "                     (Other)        :7585                         \n",
       "                 race           sex         capital.gain    capital.loss    \n",
       " Amer-Indian-Eskimo:  286   Female: 9782   Min.   :    0   Min.   :   0.00  \n",
       " Asian-Pac-Islander:  895   Male  :20380   1st Qu.:    0   1st Qu.:   0.00  \n",
       " Black             : 2817                  Median :    0   Median :   0.00  \n",
       " Other             :  231                  Mean   : 1092   Mean   :  88.37  \n",
       " White             :25933                  3rd Qu.:    0   3rd Qu.:   0.00  \n",
       "                                           Max.   :99999   Max.   :4356.00  \n",
       "                                                                            \n",
       " hours.per.week        native.country    income     \n",
       " Min.   : 1.00   Other        : 2658   <=50K:22654  \n",
       " 1st Qu.:40.00   United-States:27504   >50K : 7508  \n",
       " Median :40.00                                      \n",
       " Mean   :40.93                                      \n",
       " 3rd Qu.:45.00                                      \n",
       " Max.   :99.00                                      \n",
       "                                                    "
      ]
     },
     "metadata": {},
     "output_type": "display_data"
    }
   ],
   "source": [
    "summary(noques_adult)"
   ]
  },
  {
   "cell_type": "code",
   "execution_count": 313,
   "id": "913fde19-3754-4c25-8816-82d27257299d",
   "metadata": {},
   "outputs": [
    {
     "data": {
      "image/png": "[encoded data removed]",
      "text/plain": [
       "plot without title"
      ]
     },
     "metadata": {
      "image/png": {
       "height": 420,
       "width": 600
      }
     },
     "output_type": "display_data"
    }
   ],
   "source": [
    "options(repr.plot.width = 10, repr.plot.height = 7)\n",
    "hours_age_income_plot <- noques_adult %>% ggplot(aes(x = age, y = hours.per.week)) + geom_point(aes(colour = income))\n",
    "hours_age_income_plot"
   ]
  },
  {
   "cell_type": "code",
   "execution_count": 314,
   "id": "2362758c-476c-4d3d-af2d-453195ea7bee",
   "metadata": {},
   "outputs": [
    {
     "data": {
      "image/png": "[encoded data removed]",
      "text/plain": [
       "plot without title"
      ]
     },
     "metadata": {
      "image/png": {
       "height": 420,
       "width": 600
      }
     },
     "output_type": "display_data"
    }
   ],
   "source": [
    "options(repr.plot.width = 10, repr.plot.height = 7)\n",
    "hours_age_marital_plot <- noques_adult %>% ggplot(aes(x = age, y = hours.per.week)) + geom_point(aes(colour = marital.status))\n",
    "hours_age_marital_plot"
   ]
  },
  {
   "cell_type": "code",
   "execution_count": 315,
   "id": "8964d130-ad33-47c7-9f96-6f3e8340466d",
   "metadata": {},
   "outputs": [
    {
     "data": {
      "image/png": "[encoded data removed]",
      "text/plain": [
       "plot without title"
      ]
     },
     "metadata": {
      "image/png": {
       "height": 420,
       "width": 600
      }
     },
     "output_type": "display_data"
    }
   ],
   "source": [
    "options(repr.plot.width = 10, repr.plot.height = 7)\n",
    "hours_age_sex_plot <- noques_adult %>% ggplot(aes(x = age, y = hours.per.week)) + geom_point(aes(colour = sex))\n",
    "hours_age_sex_plot"
   ]
  },
  {
   "cell_type": "code",
   "execution_count": 316,
   "id": "58117e0f-238d-4cab-b557-934c0c17145a",
   "metadata": {},
   "outputs": [
    {
     "data": {
      "image/png": "[encoded data removed]",
      "text/plain": [
       "plot without title"
      ]
     },
     "metadata": {
      "image/png": {
       "height": 420,
       "width": 600
      }
     },
     "output_type": "display_data"
    }
   ],
   "source": [
    "options(repr.plot.width = 10, repr.plot.height = 7)\n",
    "hours_age_country_plot <- noques_adult %>% ggplot(aes(x = age, y = hours.per.week)) + geom_point(aes(colour = native.country))\n",
    "hours_age_country_plot"
   ]
  },
  {
   "cell_type": "code",
   "execution_count": 317,
   "id": "f4e27f51-620f-4cd1-8b7d-95fd971a92aa",
   "metadata": {},
   "outputs": [
    {
     "data": {
      "image/png": "[encoded data removed]",
      "text/plain": [
       "plot without title"
      ]
     },
     "metadata": {
      "image/png": {
       "height": 300,
       "width": 600
      }
     },
     "output_type": "display_data"
    }
   ],
   "source": [
    "options(repr.plot.width = 10, repr.plot.height = 5)\n",
    "hours_education_plot <- noques_adult %>% ggplot(aes(x = education, y = hours.per.week)) + geom_boxplot()\n",
    "hours_education_plot"
   ]
  },
  {
   "cell_type": "code",
   "execution_count": 318,
   "id": "9823d689-fa57-4c4f-9a21-500585ff33d8",
   "metadata": {},
   "outputs": [
    {
     "data": {
      "image/png": "[encoded data removed]",
      "text/plain": [
       "plot without title"
      ]
     },
     "metadata": {
      "image/png": {
       "height": 300,
       "width": 600
      }
     },
     "output_type": "display_data"
    }
   ],
   "source": [
    "options(repr.plot.width = 10, repr.plot.height = 5)\n",
    "hours_class_plot <- noques_adult %>% ggplot(aes(x = workclass, y = hours.per.week)) + geom_boxplot()\n",
    "hours_class_plot"
   ]
  },
  {
   "cell_type": "code",
   "execution_count": 319,
   "id": "e69d43d3-bb2b-4b40-8ab7-482804cd9857",
   "metadata": {},
   "outputs": [
    {
     "data": {
      "image/png": "[encoded data removed]",
      "text/plain": [
       "plot without title"
      ]
     },
     "metadata": {
      "image/png": {
       "height": 300,
       "width": 900
      }
     },
     "output_type": "display_data"
    }
   ],
   "source": [
    "options(repr.plot.width = 15, repr.plot.height = 5)\n",
    "hours_occupation_plot <- noques_adult %>% ggplot(aes(x = occupation, y = hours.per.week)) + geom_boxplot()\n",
    "hours_occupation_plot"
   ]
  },
  {
   "cell_type": "code",
   "execution_count": 320,
   "id": "1f368049-df91-48d2-b2e0-6f550a193ce4",
   "metadata": {},
   "outputs": [
    {
     "data": {
      "image/png": "[encoded data removed]",
      "text/plain": [
       "plot without title"
      ]
     },
     "metadata": {
      "image/png": {
       "height": 300,
       "width": 600
      }
     },
     "output_type": "display_data"
    }
   ],
   "source": [
    "options(repr.plot.width = 10, repr.plot.height = 5)\n",
    "hours_relationship_plot <- noques_adult %>% ggplot(aes(x = relationship, y = hours.per.week)) + geom_boxplot()\n",
    "hours_relationship_plot"
   ]
  },
  {
   "cell_type": "code",
   "execution_count": 321,
   "id": "72d400d4-9757-411f-b133-604a6e2f3fae",
   "metadata": {},
   "outputs": [],
   "source": [
    "options(repr.plot.width = 10, repr.plot.height = 5)\n",
    "hours_race_plot <- noques_adult %>% ggplot(aes(x = race, y = hours.per.week)) + geom_boxplot()"
   ]
  },
  {
   "cell_type": "markdown",
   "id": "6125ac6b-901e-444f-96b8-145642b8a5f8",
   "metadata": {},
   "source": [
    "> from exploratory analysis, ie. looking at the plots,and from the background research, we decided to go with the exploratory variables: age, income, marital status, sex, workclass and education to predict the number of hours worked in a week. "
   ]
  },
  {
   "cell_type": "markdown",
   "id": "123989e0-c914-4f53-b88f-234f7aaea1b6",
   "metadata": {},
   "source": [
    "**Methods: Plans**"
   ]
  },
  {
   "cell_type": "markdown",
   "id": "c7b8c534-4c41-41a2-8677-05b47f15be46",
   "metadata": {},
   "source": [
    "Based on the preliminary results, we will use age, income, marital status, sex, workclass and education as explanatory variables to fit and test multiple models. In general, we seek to determine the best MLR model for the data, then use that model to make predictions on the working hours per week of adults in the United States. The dataset we are analysing derives from the Adult Census Bureau database, a reputable source.  <br>\n",
    "\n",
    "*What methods do we plan on using?* <br>\n",
    "\n",
    "1. Splitting the dataset into training and testing datasets. Set aside 30% of our dataset to use as the testing dataset.\n",
    "2. To find the best number of predictors, we will use the forward/backward variable selection method to choose the best predictive model. \n",
    "3. To choose the best model, we will estimate MSE using Mallow’s Cp, IC or BIC.\n",
    "4. Check the performance of the model. If possible, we will add try to use both selection method and compare them.\n",
    "\n",
    "\n",
    "*What do we expect to achieve?* <br>\n",
    "\n",
    "We expect to predict a person’s future working hours per week by using our predictive model. For example, given a person’s native country, sex, race, occupation and marital status, we can predict the person’s working hours per week. <br>\n",
    "\n",
    "*What impact could our results have?* <br>\n",
    "\n",
    "The findings could provide people to forecast their future working hours per week more accurately by only considering relevant predictor metrics. This model could also be used to perform a preliminary screen on who is likely to work longer. By identifying what variables are relevant to the working hours, people could have a basic idea of their future work. <br>\n",
    "\n",
    "A future direction could be to analyze the accuracy of the predictor for other areas and datasets, such as do other variables in other dataset affect the number of working hours? <br>\n",
    "\n"
   ]
  },
  {
   "cell_type": "markdown",
   "id": "3684d2ac-033e-45c1-a4cd-83c73beaf5a3",
   "metadata": {},
   "source": [
    "**References**"
   ]
  },
  {
   "cell_type": "markdown",
   "id": "699b9824-338c-448a-8a0e-d486e27ffa65",
   "metadata": {},
   "source": [
    "Kohavi, R. & Becker, B. (1994). Adult Census Income [census report] Retrieved July 21, 2022, from Kaggle. https://www.kaggle.com/datasets/uciml/adult-census-income?search=cite <br>\n",
    "Dunga, S. H. (2017). a gender and marital status analysis of household income in a low-income township. Studia Universitatis Babeș-Bolyai. Oeconomica, 62(1), 20-30. https://doi.org/10.1515/subboec-2017-0002 <br>\n",
    "Messenger, J.C., Lee, S. & McCann, D. (2007). Working Time Around the World: Trends in Working Hours, Laws and Policies in a Global Comparative Perspective. Routledge. https://doi.org/10.4324/9780203945216 <br>\n",
    "Clawson, D. & Gerstel, N. (2014). Unequal Time: Gender, Class and Family in Employment Schedules. Russell Sage Foundation. "
   ]
  },
  {
   "cell_type": "code",
   "execution_count": null,
   "id": "f641b72d-4c04-4ebc-bfb9-0e6539fd1ca8",
   "metadata": {},
   "outputs": [],
   "source": []
  }
 ],
 "metadata": {
  "kernelspec": {
   "display_name": "R",
   "language": "R",
   "name": "ir"
  },
  "language_info": {
   "codemirror_mode": "r",
   "file_extension": ".r",
   "mimetype": "text/x-r-source",
   "name": "R",
   "pygments_lexer": "r",
   "version": "4.1.3"
  }
 },
 "nbformat": 4,
 "nbformat_minor": 5
}
